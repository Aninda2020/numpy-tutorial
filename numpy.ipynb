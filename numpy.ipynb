{
 "cells": [
  {
   "cell_type": "code",
   "execution_count": 1,
   "metadata": {},
   "outputs": [],
   "source": [
    "import numpy as np"
   ]
  },
  {
   "cell_type": "code",
   "execution_count": 2,
   "metadata": {},
   "outputs": [
    {
     "name": "stdout",
     "output_type": "stream",
     "text": [
      "Numpy version: 1.15.0\n"
     ]
    }
   ],
   "source": [
    "print('Numpy version: ' + np.__version__)"
   ]
  },
  {
   "cell_type": "markdown",
   "metadata": {},
   "source": [
    "## Create Arrays"
   ]
  },
  {
   "cell_type": "code",
   "execution_count": 3,
   "metadata": {},
   "outputs": [
    {
     "name": "stdout",
     "output_type": "stream",
     "text": [
      "[0 1 2 3 4 5 6 7 8 9]\n",
      "[1 2 3 4 5]\n",
      "[[1 2 3]\n",
      " [4 5 6]]\n"
     ]
    }
   ],
   "source": [
    "# create an array from an iterable\n",
    "arr = np.array(range(10))\n",
    "print(arr)\n",
    "\n",
    "arr = np.array([1,2,3,4,5])\n",
    "print(arr)\n",
    "\n",
    "# create an array in a specified data type\n",
    "arr = np.array([[1,2,3], [4,5,6]], dtype='i2')\n",
    "print(arr)"
   ]
  },
  {
   "cell_type": "code",
   "execution_count": 4,
   "metadata": {},
   "outputs": [
    {
     "name": "stdout",
     "output_type": "stream",
     "text": [
      "[ 0  2  4  6  8 10 12 14 16 18]\n"
     ]
    }
   ],
   "source": [
    "# create an aray of evenly spaced values within a specified interval\n",
    "# np.arange(start, stop, step)\n",
    "arr = np.arange(0, 20, 2)  \n",
    "print(arr)"
   ]
  },
  {
   "cell_type": "code",
   "execution_count": 5,
   "metadata": {},
   "outputs": [
    {
     "name": "stdout",
     "output_type": "stream",
     "text": [
      "[ 0.          0.52631579  1.05263158  1.57894737  2.10526316  2.63157895\n",
      "  3.15789474  3.68421053  4.21052632  4.73684211  5.26315789  5.78947368\n",
      "  6.31578947  6.84210526  7.36842105  7.89473684  8.42105263  8.94736842\n",
      "  9.47368421 10.        ]\n",
      "[0.  0.5 1.  1.5 2.  2.5 3.  3.5 4.  4.5 5.  5.5 6.  6.5 7.  7.5 8.  8.5\n",
      " 9.  9.5]\n",
      "0.5\n"
     ]
    }
   ],
   "source": [
    "# create an array of evenly spaced numbers over a specified interval\n",
    "# np.linspace(start, stop, num_of_elements, endpoint=True, retstep=False) \n",
    "arr = np.linspace(0, 10, 20)\n",
    "print(arr)\n",
    "\n",
    "# exclude endpoint and return setp size\n",
    "arr, step = np.linspace(0, 10, 20, endpoint=False, retstep=True)\n",
    "print(arr)\n",
    "print(step)"
   ]
  },
  {
   "cell_type": "code",
   "execution_count": 6,
   "metadata": {},
   "outputs": [
    {
     "name": "stdout",
     "output_type": "stream",
     "text": [
      "[[0.49092008 0.75327598 0.70793096]\n",
      " [0.9678623  0.48079467 0.04504932]\n",
      " [0.2167024  0.35205732 0.5833361 ]]\n"
     ]
    }
   ],
   "source": [
    "# create an array of random values in a given shape\n",
    "arr = np.random.rand(3, 3)\n",
    "print(arr)"
   ]
  },
  {
   "cell_type": "code",
   "execution_count": 7,
   "metadata": {},
   "outputs": [
    {
     "name": "stdout",
     "output_type": "stream",
     "text": [
      "[[0 0 0]\n",
      " [0 0 0]]\n",
      "[[0. 0. 0.]\n",
      " [0. 0. 0.]\n",
      " [0. 0. 0.]]\n"
     ]
    }
   ],
   "source": [
    "# create an array of zeros in a given shape \n",
    "zeros = np.zeros((2,3), dtype='i4')\n",
    "print(zeros)\n",
    "\n",
    "# create an array of zeros with the same shape and data type as a given array\n",
    "zeros = np.zeros_like(arr)\n",
    "print(zeros)"
   ]
  },
  {
   "cell_type": "code",
   "execution_count": 8,
   "metadata": {},
   "outputs": [
    {
     "name": "stdout",
     "output_type": "stream",
     "text": [
      "[[1 1 1]\n",
      " [1 1 1]]\n",
      "[[1 1 1]\n",
      " [1 1 1]\n",
      " [1 1 1]]\n"
     ]
    }
   ],
   "source": [
    "# create an array of ones in a given shape \n",
    "ones = np.ones((2,3), dtype=np.int32)\n",
    "print(ones)\n",
    "\n",
    "# create an array of ones with the same shape and data type as a given array\n",
    "ones = np.ones_like(arr, dtype=np.int16)\n",
    "print(ones)"
   ]
  },
  {
   "cell_type": "code",
   "execution_count": 9,
   "metadata": {},
   "outputs": [
    {
     "name": "stdout",
     "output_type": "stream",
     "text": [
      "[[0. 0. 0.]\n",
      " [0. 0. 0.]]\n",
      "[[0. 0. 0.]\n",
      " [0. 0. 0.]\n",
      " [0. 0. 0.]]\n"
     ]
    }
   ],
   "source": [
    "# create an array of arbitrary values in a given shape \n",
    "empty = np.empty((2,3))\n",
    "print(empty)\n",
    "\n",
    "# create an array of arbitrary values with the same shape and data type as a given array\n",
    "empty = np.empty_like(arr)\n",
    "print(empty)"
   ]
  },
  {
   "cell_type": "code",
   "execution_count": 10,
   "metadata": {},
   "outputs": [
    {
     "name": "stdout",
     "output_type": "stream",
     "text": [
      "[[5 5 5]\n",
      " [5 5 5]]\n",
      "[[5. 5. 5.]\n",
      " [5. 5. 5.]\n",
      " [5. 5. 5.]]\n"
     ]
    }
   ],
   "source": [
    "# create an array of constant values in a given shape  \n",
    "p = np.full((2,3), 5, dtype=np.int32)\n",
    "print(p)\n",
    "\n",
    "# create an array of constant values with the same shape and data type as a given array\n",
    "p = np.full_like(arr, 5)\n",
    "print(p)"
   ]
  },
  {
   "cell_type": "code",
   "execution_count": 11,
   "metadata": {},
   "outputs": [
    {
     "name": "stdout",
     "output_type": "stream",
     "text": [
      "[[1. 0. 0. 0. 0.]\n",
      " [0. 1. 0. 0. 0.]\n",
      " [0. 0. 1. 0. 0.]\n",
      " [0. 0. 0. 1. 0.]\n",
      " [0. 0. 0. 0. 1.]]\n",
      "[[1. 0. 0. 0. 0.]\n",
      " [0. 1. 0. 0. 0.]\n",
      " [0. 0. 1. 0. 0.]\n",
      " [0. 0. 0. 1. 0.]\n",
      " [0. 0. 0. 0. 1.]]\n"
     ]
    }
   ],
   "source": [
    "# create an identity matrix with a given diagonal size\n",
    "identity_matrix = np.eye(5)\n",
    "print(identity_matrix)\n",
    "# or \n",
    "identity_matrix = np.identity(5)\n",
    "print(identity_matrix)"
   ]
  },
  {
   "cell_type": "code",
   "execution_count": 12,
   "metadata": {},
   "outputs": [
    {
     "name": "stdout",
     "output_type": "stream",
     "text": [
      "[[0. 1. 0. 0. 0.]\n",
      " [0. 0. 1. 0. 0.]\n",
      " [0. 0. 0. 1. 0.]\n",
      " [0. 0. 0. 0. 1.]\n",
      " [0. 0. 0. 0. 0.]]\n",
      "[[0. 0. 0. 0. 0.]\n",
      " [0. 0. 0. 0. 0.]\n",
      " [1. 0. 0. 0. 0.]\n",
      " [0. 1. 0. 0. 0.]\n",
      " [0. 0. 1. 0. 0.]]\n"
     ]
    }
   ],
   "source": [
    "# diagonal offset\n",
    "identity_matrix = np.eye(5, k=1)    # positive number means upper offset by the number\n",
    "print(identity_matrix)\n",
    "\n",
    "identity_matrix = np.eye(5, k=-2)   # negative number means lower offset by the number\n",
    "print(identity_matrix)"
   ]
  },
  {
   "cell_type": "markdown",
   "metadata": {},
   "source": [
    "## Inspect Arrays"
   ]
  },
  {
   "cell_type": "code",
   "execution_count": 13,
   "metadata": {},
   "outputs": [],
   "source": [
    "arr = np.array([[1,2,3], [4,5,6]], dtype=np.int64)"
   ]
  },
  {
   "cell_type": "code",
   "execution_count": 14,
   "metadata": {},
   "outputs": [
    {
     "name": "stdout",
     "output_type": "stream",
     "text": [
      "class:  ndarray\n",
      "shape:  (2, 3)\n",
      "strides:  (24, 8)\n",
      "itemsize:  8\n",
      "aligned:  True\n",
      "contiguous:  True\n",
      "fortran:  False\n",
      "data pointer: 0x220a1b66200\n",
      "byteorder:  little\n",
      "byteswap:  False\n",
      "type: int64\n",
      "None\n"
     ]
    }
   ],
   "source": [
    "# inspect general information of an array\n",
    "print(np.info(arr))"
   ]
  },
  {
   "cell_type": "code",
   "execution_count": 15,
   "metadata": {},
   "outputs": [
    {
     "name": "stdout",
     "output_type": "stream",
     "text": [
      "int64\n"
     ]
    }
   ],
   "source": [
    "# the data type of the array\n",
    "print(arr.dtype)"
   ]
  },
  {
   "cell_type": "code",
   "execution_count": 16,
   "metadata": {},
   "outputs": [
    {
     "name": "stdout",
     "output_type": "stream",
     "text": [
      "(2, 3)\n"
     ]
    }
   ],
   "source": [
    "# the dimension of the array\n",
    "print(arr.shape)"
   ]
  },
  {
   "cell_type": "code",
   "execution_count": 17,
   "metadata": {},
   "outputs": [
    {
     "name": "stdout",
     "output_type": "stream",
     "text": [
      "2\n"
     ]
    }
   ],
   "source": [
    "# length of the array\n",
    "print(len(arr))"
   ]
  },
  {
   "cell_type": "code",
   "execution_count": 18,
   "metadata": {},
   "outputs": [
    {
     "name": "stdout",
     "output_type": "stream",
     "text": [
      "2\n"
     ]
    }
   ],
   "source": [
    "# number of the dimension of the array\n",
    "print(arr.ndim)"
   ]
  },
  {
   "cell_type": "code",
   "execution_count": 19,
   "metadata": {},
   "outputs": [
    {
     "name": "stdout",
     "output_type": "stream",
     "text": [
      "6\n"
     ]
    }
   ],
   "source": [
    "# number of elements in the array\n",
    "print(arr.size)"
   ]
  },
  {
   "cell_type": "code",
   "execution_count": 20,
   "metadata": {},
   "outputs": [
    {
     "name": "stdout",
     "output_type": "stream",
     "text": [
      "8\n"
     ]
    }
   ],
   "source": [
    "# number of bytes of each element in the array\n",
    "print(arr.itemsize)"
   ]
  },
  {
   "cell_type": "markdown",
   "metadata": {},
   "source": [
    "## Data Types"
   ]
  },
  {
   "cell_type": "code",
   "execution_count": 21,
   "metadata": {},
   "outputs": [
    {
     "data": {
      "text/html": [
       "<div>\n",
       "<style scoped>\n",
       "    .dataframe tbody tr th:only-of-type {\n",
       "        vertical-align: middle;\n",
       "    }\n",
       "\n",
       "    .dataframe tbody tr th {\n",
       "        vertical-align: top;\n",
       "    }\n",
       "\n",
       "    .dataframe thead th {\n",
       "        text-align: right;\n",
       "    }\n",
       "</style>\n",
       "<table border=\"1\" class=\"dataframe\">\n",
       "  <thead>\n",
       "    <tr style=\"text-align: right;\">\n",
       "      <th></th>\n",
       "      <th>Type</th>\n",
       "      <th>Type Code</th>\n",
       "    </tr>\n",
       "  </thead>\n",
       "  <tbody>\n",
       "    <tr>\n",
       "      <th>0</th>\n",
       "      <td>int8</td>\n",
       "      <td>i1</td>\n",
       "    </tr>\n",
       "    <tr>\n",
       "      <th>1</th>\n",
       "      <td>uint8</td>\n",
       "      <td>u1</td>\n",
       "    </tr>\n",
       "    <tr>\n",
       "      <th>2</th>\n",
       "      <td>int16</td>\n",
       "      <td>i2</td>\n",
       "    </tr>\n",
       "    <tr>\n",
       "      <th>3</th>\n",
       "      <td>uint16</td>\n",
       "      <td>u2</td>\n",
       "    </tr>\n",
       "    <tr>\n",
       "      <th>4</th>\n",
       "      <td>int32</td>\n",
       "      <td>i4</td>\n",
       "    </tr>\n",
       "    <tr>\n",
       "      <th>5</th>\n",
       "      <td>uint32</td>\n",
       "      <td>u4</td>\n",
       "    </tr>\n",
       "    <tr>\n",
       "      <th>6</th>\n",
       "      <td>int64</td>\n",
       "      <td>i8</td>\n",
       "    </tr>\n",
       "    <tr>\n",
       "      <th>7</th>\n",
       "      <td>uint64</td>\n",
       "      <td>u8</td>\n",
       "    </tr>\n",
       "    <tr>\n",
       "      <th>8</th>\n",
       "      <td>float16</td>\n",
       "      <td>f2</td>\n",
       "    </tr>\n",
       "    <tr>\n",
       "      <th>9</th>\n",
       "      <td>float32</td>\n",
       "      <td>f4 or f</td>\n",
       "    </tr>\n",
       "    <tr>\n",
       "      <th>10</th>\n",
       "      <td>float64</td>\n",
       "      <td>f8 or d</td>\n",
       "    </tr>\n",
       "    <tr>\n",
       "      <th>11</th>\n",
       "      <td>float128</td>\n",
       "      <td>f16 or g</td>\n",
       "    </tr>\n",
       "    <tr>\n",
       "      <th>12</th>\n",
       "      <td>complex64</td>\n",
       "      <td>c8</td>\n",
       "    </tr>\n",
       "    <tr>\n",
       "      <th>13</th>\n",
       "      <td>complex128</td>\n",
       "      <td>c16</td>\n",
       "    </tr>\n",
       "    <tr>\n",
       "      <th>14</th>\n",
       "      <td>bool</td>\n",
       "      <td></td>\n",
       "    </tr>\n",
       "    <tr>\n",
       "      <th>15</th>\n",
       "      <td>object</td>\n",
       "      <td>O</td>\n",
       "    </tr>\n",
       "    <tr>\n",
       "      <th>16</th>\n",
       "      <td>string_</td>\n",
       "      <td>S</td>\n",
       "    </tr>\n",
       "    <tr>\n",
       "      <th>17</th>\n",
       "      <td>unicode_</td>\n",
       "      <td>U</td>\n",
       "    </tr>\n",
       "  </tbody>\n",
       "</table>\n",
       "</div>"
      ],
      "text/plain": [
       "          Type Type Code\n",
       "0         int8        i1\n",
       "1        uint8        u1\n",
       "2        int16        i2\n",
       "3       uint16        u2\n",
       "4        int32        i4\n",
       "5       uint32        u4\n",
       "6        int64        i8\n",
       "7       uint64        u8\n",
       "8      float16        f2\n",
       "9      float32   f4 or f\n",
       "10     float64   f8 or d\n",
       "11    float128  f16 or g\n",
       "12   complex64        c8\n",
       "13  complex128       c16\n",
       "14        bool          \n",
       "15      object         O\n",
       "16     string_         S\n",
       "17    unicode_         U"
      ]
     },
     "execution_count": 21,
     "metadata": {},
     "output_type": "execute_result"
    }
   ],
   "source": [
    "import pandas as pd\n",
    "dtypes = pd.DataFrame(\n",
    "    {\n",
    "        'Type': ['int8', 'uint8', 'int16', 'uint16', 'int32', 'uint32', 'int64', 'uint64', 'float16', 'float32', 'float64', 'float128', 'complex64', 'complex128', 'bool', 'object', 'string_', 'unicode_'],\n",
    "        'Type Code': ['i1', 'u1', 'i2', 'u2', 'i4', 'u4', 'i8', 'u8', 'f2', 'f4 or f', 'f8 or d', 'f16 or g', 'c8', 'c16', '', 'O', 'S', 'U']\n",
    "    }\n",
    ")\n",
    "\n",
    "dtypes"
   ]
  },
  {
   "cell_type": "code",
   "execution_count": 22,
   "metadata": {},
   "outputs": [
    {
     "name": "stdout",
     "output_type": "stream",
     "text": [
      "int32\n"
     ]
    }
   ],
   "source": [
    "arr = np.array([1,2,3,4,5], dtype=np.int32)\n",
    "print(arr.dtype)"
   ]
  },
  {
   "cell_type": "code",
   "execution_count": 23,
   "metadata": {},
   "outputs": [
    {
     "name": "stdout",
     "output_type": "stream",
     "text": [
      "int64\n",
      "float32\n"
     ]
    }
   ],
   "source": [
    "# convert data type\n",
    "arr1 = arr.astype('i8')  \n",
    "print(arr1.dtype)\n",
    "\n",
    "arr2 = arr.astype(np.float32)\n",
    "print(arr2.dtype)"
   ]
  },
  {
   "cell_type": "code",
   "execution_count": 24,
   "metadata": {},
   "outputs": [
    {
     "name": "stdout",
     "output_type": "stream",
     "text": [
      "|S4\n"
     ]
    }
   ],
   "source": [
    "# set the max length of the string using S + length, such as 'S10'\n",
    "# any string longer than max length will be truncated\n",
    "s = np.array(['abc', 'defg'], dtype='S10')\n",
    "\n",
    "# 'np.string_' will set the length of the longest string in the array as the max length \n",
    "s = np.array([1.96,2.0,8], dtype=np.string_)\n",
    "print(s.dtype)"
   ]
  },
  {
   "cell_type": "markdown",
   "metadata": {},
   "source": [
    "## Sampling Methods"
   ]
  },
  {
   "cell_type": "code",
   "execution_count": 25,
   "metadata": {},
   "outputs": [],
   "source": [
    "# set seed\n",
    "np.random.seed(123)"
   ]
  },
  {
   "cell_type": "code",
   "execution_count": 26,
   "metadata": {},
   "outputs": [
    {
     "name": "stdout",
     "output_type": "stream",
     "text": [
      "0.6964691855978616\n",
      "[0.28613933 0.22685145 0.55131477]\n",
      "[[0.71946897 0.42310646 0.9807642 ]\n",
      " [0.68482974 0.4809319  0.39211752]\n",
      " [0.34317802 0.72904971 0.43857224]]\n"
     ]
    }
   ],
   "source": [
    "# generate random values from interval [0, 1) in a given shape\n",
    "print(np.random.rand())             # generate a single random value\n",
    "print(np.random.rand(3,))           # generate a 1-D array\n",
    "print(np.random.rand(3,3))          # generate a 2-D array"
   ]
  },
  {
   "cell_type": "code",
   "execution_count": 27,
   "metadata": {},
   "outputs": [
    {
     "name": "stdout",
     "output_type": "stream",
     "text": [
      "[[-0.14337247 -0.6191909  -0.76943347]\n",
      " [ 0.57674602  0.12652592 -1.30148897]\n",
      " [ 2.20742744  0.52274247  0.46564476]]\n"
     ]
    }
   ],
   "source": [
    "# generate a sample from standard normal distribution (with mean equal to o and variance 1)\n",
    "print(np.random.randn(3,3))"
   ]
  },
  {
   "cell_type": "code",
   "execution_count": 28,
   "metadata": {},
   "outputs": [
    {
     "name": "stdout",
     "output_type": "stream",
     "text": [
      "[5 7 2]\n"
     ]
    }
   ],
   "source": [
    "# generate a random array of integers in a given interval [low, high)\n",
    "# np.ranodm.randint(low, high, size, dtype)\n",
    "print(np.random.randint(1,10,3,'i8'))"
   ]
  },
  {
   "cell_type": "code",
   "execution_count": 29,
   "metadata": {},
   "outputs": [
    {
     "name": "stdout",
     "output_type": "stream",
     "text": [
      "[0.65472131 0.37380143 0.23451288 0.98799529 0.76599595 0.77700444\n",
      " 0.02798196 0.17390652 0.15408224 0.07708648]\n",
      "[0.8898657  0.7503787  0.69340324 0.51176338 0.46426806 0.56843069\n",
      " 0.30254945 0.49730879 0.68326291 0.91669867]\n",
      "[0.10892895 0.49549179 0.23283593 0.43686066 0.75154299 0.48089213\n",
      " 0.79772841 0.28270293 0.43341824 0.00975735]\n",
      "[0.34079598 0.68927201 0.86936929 0.26780382 0.45674792 0.26828131\n",
      " 0.8370528  0.27051466 0.53006201 0.17537266]\n"
     ]
    }
   ],
   "source": [
    "# generate an array of random floats in the interval [0.0, 1.0)\n",
    "print(np.random.random_sample(10))\n",
    "print(np.random.random(10))\n",
    "print(np.random.ranf(10))\n",
    "print(np.random.sample(10))"
   ]
  },
  {
   "cell_type": "code",
   "execution_count": 30,
   "metadata": {},
   "outputs": [
    {
     "name": "stdout",
     "output_type": "stream",
     "text": [
      "[1 1 1 1 1 1 1 2 2 1]\n",
      "[1 0 1 2 2 0 1 1 1 0]\n",
      "[2 2 1 3 2 3 1 2 1 3]\n"
     ]
    }
   ],
   "source": [
    "# generate a random sample in a given 1-D array\n",
    "# np.random.choice(iterable_or_int, size, replace=True, p=a_list_of_weights)\n",
    "print(np.random.choice(range(3), 10, replace=True, p=[0.1, 0.8, 0.1]))\n",
    "print(np.random.choice(3, 10))\n",
    "print(np.random.choice([1,2,3], 10))"
   ]
  },
  {
   "cell_type": "code",
   "execution_count": 31,
   "metadata": {},
   "outputs": [
    {
     "name": "stdout",
     "output_type": "stream",
     "text": [
      "[0 1 2 3 4 5 6 7 8 9]\n",
      "[1 2 8 5 4 0 6 7 9 3]\n"
     ]
    }
   ],
   "source": [
    "# shuffle the array in place\n",
    "arr = np.array(range(10))\n",
    "print(arr)\n",
    "\n",
    "np.random.shuffle(arr)\n",
    "print(arr)"
   ]
  },
  {
   "cell_type": "code",
   "execution_count": 32,
   "metadata": {},
   "outputs": [
    {
     "name": "stdout",
     "output_type": "stream",
     "text": [
      "[0 1 2 3 4 5 6 7 8 9]\n",
      "[3 6 2 4 5 9 1 8 0 7]\n"
     ]
    }
   ],
   "source": [
    "# generate a permutation of an array\n",
    "arr = np.array(range(10))\n",
    "print(arr)\n",
    "print(np.random.permutation(arr))"
   ]
  },
  {
   "cell_type": "markdown",
   "metadata": {},
   "source": [
    "## Mathematical Functions"
   ]
  },
  {
   "cell_type": "code",
   "execution_count": 33,
   "metadata": {},
   "outputs": [],
   "source": [
    "arr = np.random.rand(5,5)"
   ]
  },
  {
   "cell_type": "code",
   "execution_count": 34,
   "metadata": {},
   "outputs": [
    {
     "name": "stdout",
     "output_type": "stream",
     "text": [
      "[[10.87350227 10.02942373 10.55204372 10.2402475  10.88480501]\n",
      " [10.46023842 10.19317033 10.2936925  10.81792751 10.55948738]\n",
      " [10.67792545 10.80912668 10.86857215 10.41799246 10.05893816]\n",
      " [10.478459   10.52115943 10.58063202 10.309199   10.91988263]\n",
      " [10.6553475  10.34924138 10.54109404 10.4490534  10.28232096]]\n",
      "[[-9.12649773 -9.97057627 -9.44795628 -9.7597525  -9.11519499]\n",
      " [-9.53976158 -9.80682967 -9.7063075  -9.18207249 -9.44051262]\n",
      " [-9.32207455 -9.19087332 -9.13142785 -9.58200754 -9.94106184]\n",
      " [-9.521541   -9.47884057 -9.41936798 -9.690801   -9.08011737]\n",
      " [-9.3446525  -9.65075862 -9.45890596 -9.5509466  -9.71767904]]\n",
      "[[8.73502266 0.29423734 5.52043722 2.40247504 8.84805011]\n",
      " [4.60238424 1.9317033  2.93692504 8.17927508 5.59487376]\n",
      " [6.77925447 8.09126678 8.68572154 4.17992456 0.58938156]\n",
      " [4.78459005 5.2115943  5.8063202  3.09198998 9.19882625]\n",
      " [6.55347503 3.49241385 5.41094045 4.49053396 2.82320961]]\n",
      "[[0.08735023 0.00294237 0.05520437 0.02402475 0.0884805 ]\n",
      " [0.04602384 0.01931703 0.02936925 0.08179275 0.05594874]\n",
      " [0.06779254 0.08091267 0.08685722 0.04179925 0.00589382]\n",
      " [0.0478459  0.05211594 0.0580632  0.0309199  0.09198826]\n",
      " [0.06553475 0.03492414 0.0541094  0.04490534 0.0282321 ]]\n"
     ]
    }
   ],
   "source": [
    "# element-wise addition, subtraction, multiplication and division\n",
    "print(arr + 10)\n",
    "print(arr - 10)\n",
    "print(arr * 10)\n",
    "print(arr / 10)"
   ]
  },
  {
   "cell_type": "code",
   "execution_count": 35,
   "metadata": {},
   "outputs": [
    {
     "name": "stdout",
     "output_type": "stream",
     "text": [
      "[[2.39528511 1.02986089 1.73679893 1.27156383 2.42251198]\n",
      " [1.58445171 1.2130894  1.34137137 2.26579912 1.74977529]\n",
      " [1.96978706 2.2459457  2.38350515 1.51890922 1.06070964]\n",
      " [1.61358596 1.68397897 1.7871676  1.36233345 2.50899588]\n",
      " [1.92581163 1.41799143 1.71788528 1.56682832 1.32620431]]\n"
     ]
    }
   ],
   "source": [
    "# element-wise exponentiation\n",
    "print(np.exp(arr))"
   ]
  },
  {
   "cell_type": "code",
   "execution_count": 36,
   "metadata": {},
   "outputs": [
    {
     "name": "stdout",
     "output_type": "stream",
     "text": [
      "[[-0.13524456 -3.52595367 -0.59412803 -1.42608562 -0.12238798]\n",
      " [-0.77601061 -1.64418294 -1.22522197 -0.20098157 -0.58073432]\n",
      " [-0.38871796 -0.21179979 -0.14090462 -0.87229189 -2.83126659]\n",
      " [-0.73718475 -0.65169928 -0.54363808 -1.1737702  -0.0835092 ]\n",
      " [-0.42258965 -1.05199195 -0.61416218 -0.80061348 -1.2647107 ]]\n",
      "[[-0.19511665 -5.08687587 -0.85714556 -2.05740665 -0.17656854]\n",
      " [-1.11954666 -2.37205457 -1.76762165 -0.28995511 -0.83782252]\n",
      " [-0.56080147 -0.3055625  -0.20328239 -1.25845119 -4.08465428]\n",
      " [-1.06353278 -0.94020332 -0.78430396 -1.69339245 -0.12047831]\n",
      " [-0.60966799 -1.51770357 -0.88604873 -1.15504109 -1.82459185]]\n",
      "[[-0.05873596 -1.53130222 -0.25802652 -0.61934112 -0.05315243]\n",
      " [-0.33701713 -0.71405958 -0.53210714 -0.08728519 -0.25220971]\n",
      " [-0.16881806 -0.09198348 -0.0611941  -0.37883156 -1.22960346]\n",
      " [-0.32015527 -0.2830294  -0.23609902 -0.50976192 -0.03626758]\n",
      " [-0.18352835 -0.4568743  -0.26672725 -0.34770202 -0.54925688]]\n"
     ]
    }
   ],
   "source": [
    "# element-wise logorithm\n",
    "print(np.log(arr))      # natural log\n",
    "print(np.log2(arr))     # base 2\n",
    "print(np.log10(arr))    # base 10"
   ]
  },
  {
   "cell_type": "code",
   "execution_count": 37,
   "metadata": {},
   "outputs": [
    {
     "name": "stdout",
     "output_type": "stream",
     "text": [
      "[[0.93461343 0.17153348 0.74299645 0.49015049 0.94064075]\n",
      " [0.67840874 0.43951147 0.54193404 0.90439345 0.74798889]\n",
      " [0.82336228 0.89951469 0.93197219 0.64652336 0.24277182]\n",
      " [0.69170731 0.72191373 0.76199214 0.55605665 0.95910512]\n",
      " [0.80953536 0.59096648 0.73559095 0.67011446 0.53133884]]\n"
     ]
    }
   ],
   "source": [
    "# element-wise square root\n",
    "print(np.sqrt(arr))"
   ]
  },
  {
   "cell_type": "code",
   "execution_count": 38,
   "metadata": {},
   "outputs": [
    {
     "name": "stdout",
     "output_type": "stream",
     "text": [
      "[[0.7665826  0.02941949 0.52442846 0.23794303 0.77379149]\n",
      " [0.44416174 0.19197122 0.28948859 0.72973036 0.5307518 ]\n",
      " [0.62717856 0.72368474 0.76340745 0.40592657 0.05890404]\n",
      " [0.46041177 0.49788598 0.54855249 0.30429572 0.79553051]\n",
      " [0.60943479 0.34218509 0.51507406 0.43411297 0.27858547]]\n",
      "[[0.64214571 0.99956715 0.85145452 0.97127911 0.63344039]\n",
      " [0.89594662 0.98140056 0.95718147 0.68373503 0.8475273 ]\n",
      " [0.77887551 0.69013071 0.64591723 0.9139057  0.99826365]\n",
      " [0.88770547 0.8672425  0.83611612 0.95257762 0.60591354]\n",
      " [0.7928362  0.93963257 0.85714568 0.90085844 0.96041144]]\n"
     ]
    }
   ],
   "source": [
    "# element-wise sine and cosine\n",
    "print(np.sin(arr))\n",
    "print(np.cos(arr))"
   ]
  },
  {
   "cell_type": "code",
   "execution_count": 39,
   "metadata": {},
   "outputs": [
    {
     "name": "stdout",
     "output_type": "stream",
     "text": [
      "[[1.84559596 0.91227657 1.58860089 0.93628231 1.29267633]\n",
      " [1.44802877 0.91015793 1.34354773 0.89547378 1.44295964]\n",
      " [1.792005   1.11745562 1.6408874  1.3434427  1.50486351]\n",
      " [1.80219967 1.0669585  1.59878556 1.29259946 1.29327536]\n",
      " [1.49987523 0.85718605 1.34782624 0.93489701 1.29992353]]\n",
      "[[1.84559596 0.91227657 1.58860089 0.93628231 1.29267633]\n",
      " [1.44802877 0.91015793 1.34354773 0.89547378 1.44295964]\n",
      " [1.792005   1.11745562 1.6408874  1.3434427  1.50486351]\n",
      " [1.80219967 1.0669585  1.59878556 1.29259946 1.29327536]\n",
      " [1.49987523 0.85718605 1.34782624 0.93489701 1.29992353]]\n"
     ]
    }
   ],
   "source": [
    "# matrix multiplication\n",
    "print(arr.dot(arr))\n",
    "# or\n",
    "print(arr @ arr)"
   ]
  },
  {
   "cell_type": "code",
   "execution_count": 40,
   "metadata": {},
   "outputs": [
    {
     "name": "stdout",
     "output_type": "stream",
     "text": [
      "[3.14547265 1.90212156 2.83603444 2.23441986 2.70543413]\n",
      "[2.58002224 2.32451614 2.83255489 2.80933208 2.27705729]\n"
     ]
    }
   ],
   "source": [
    "# sum along a specified axis\n",
    "print(np.sum(arr, axis=0))    # sum along the row\n",
    "print(np.sum(arr, axis=1))    # sum along the column"
   ]
  },
  {
   "cell_type": "code",
   "execution_count": 41,
   "metadata": {},
   "outputs": [
    {
     "name": "stdout",
     "output_type": "stream",
     "text": [
      "[0.46023842 0.02942373 0.2936925  0.2402475  0.05893816]\n",
      "[0.88480501 0.81792751 0.86857215 0.91988263 0.6553475 ]\n"
     ]
    }
   ],
   "source": [
    "# min and max along a specified axis\n",
    "print(np.min(arr, axis=0))    # calculate min along the row\n",
    "print(np.max(arr, axis=1))    # calculate max along the column"
   ]
  },
  {
   "cell_type": "code",
   "execution_count": 42,
   "metadata": {},
   "outputs": [
    {
     "name": "stdout",
     "output_type": "stream",
     "text": [
      "[1 4 5 8 9]\n",
      "[0 3 3 7 7]\n"
     ]
    }
   ],
   "source": [
    "# element-wise min and max of two arrays\n",
    "arr1 = np.array([1, 3, 5, 7, 9])\n",
    "arr2 = np.array([0, 4, 3, 8, 7])\n",
    "print(np.maximum(arr1, arr2))\n",
    "print(np.minimum(arr1, arr2))"
   ]
  },
  {
   "cell_type": "code",
   "execution_count": 43,
   "metadata": {},
   "outputs": [
    {
     "name": "stdout",
     "output_type": "stream",
     "text": [
      "[0.95876525 0.63480983 0.15191279 0.17618677 0.52041829 0.32778859\n",
      " 0.7311902  0.67888445 0.87478322 0.4941493 ]\n",
      "[2. 5. 7. 5. 3. 6. 8. 1. 9. 3.]\n"
     ]
    }
   ],
   "source": [
    "# fractional and integral parts of a floating-point array\n",
    "arr1 = np.random.rand(10) * 10\n",
    "re, intg = np.modf(arr1)\n",
    "print(re)\n",
    "print(intg)"
   ]
  },
  {
   "cell_type": "code",
   "execution_count": 44,
   "metadata": {},
   "outputs": [
    {
     "name": "stdout",
     "output_type": "stream",
     "text": [
      "[0.62909453 0.38042431 0.56720689 0.44688397 0.54108683]\n",
      "[0.51600445 0.46490323 0.56651098 0.56186642 0.45541146]\n",
      "[0.6553475  0.34924138 0.55204372 0.41799246 0.55948738]\n",
      "[0.55204372 0.46023842 0.67792545 0.52115943 0.4490534 ]\n"
     ]
    }
   ],
   "source": [
    "# mean and median along a given axis\n",
    "print(np.mean(arr, axis=0))   # calculate the mean along the row\n",
    "print(np.mean(arr, axis=1))   # calculate the mean along the column\n",
    "print(np.median(arr, axis=0)) # calculate the median along the row\n",
    "print(np.median(arr, axis=1)) # calculate the median along the column"
   ]
  },
  {
   "cell_type": "code",
   "execution_count": 45,
   "metadata": {},
   "outputs": [
    {
     "name": "stdout",
     "output_type": "stream",
     "text": [
      "0.25305273176784365\n",
      "0.06403568505516823\n"
     ]
    }
   ],
   "source": [
    "# standard deviation and variance\n",
    "print(np.std(arr))\n",
    "print(np.var(arr))"
   ]
  },
  {
   "cell_type": "code",
   "execution_count": 46,
   "metadata": {},
   "outputs": [
    {
     "name": "stdout",
     "output_type": "stream",
     "text": [
      "[[0.87350227 0.902926   1.45496972 1.69521723 2.58002224]\n",
      " [0.46023842 0.65340875 0.94710126 1.76502877 2.32451614]\n",
      " [0.67792545 1.48705213 2.35562428 2.77361674 2.83255489]\n",
      " [0.478459   0.99961843 1.58025045 1.88944945 2.80933208]\n",
      " [0.6553475  1.00458889 1.54568293 1.99473633 2.27705729]]\n",
      "[[0.87350227 0.0257017  0.01418846 0.00340874 0.00301607]\n",
      " [0.46023842 0.08890441 0.02611056 0.02135654 0.01194872]\n",
      " [0.67792545 0.54852757 0.47643577 0.19914656 0.01173733]\n",
      " [0.478459   0.24935342 0.14478258 0.04476663 0.04118004]\n",
      " [0.6553475  0.22887447 0.12384261 0.05561195 0.01570042]]\n"
     ]
    }
   ],
   "source": [
    "# cumulative sum and product\n",
    "print(np.cumsum(arr, axis=1))    # calculate the cumulative sums along the column\n",
    "print(np.cumprod(arr, axis=1))   # calculate the cumulative product along the column"
   ]
  },
  {
   "cell_type": "code",
   "execution_count": 47,
   "metadata": {},
   "outputs": [
    {
     "name": "stdout",
     "output_type": "stream",
     "text": [
      "[False False  True False False]\n",
      "[ True  True False False False]\n"
     ]
    }
   ],
   "source": [
    "# comparison \n",
    "arr1 = np.array([1,2,3,4,5])\n",
    "arr2 = np.array([5,4,3,2,1])\n",
    "print(arr1 == arr2)    # return an array of bools\n",
    "print(arr1 < 3)        # return an array of bools"
   ]
  },
  {
   "cell_type": "markdown",
   "metadata": {},
   "source": [
    "## Slicing & Indexing"
   ]
  },
  {
   "cell_type": "code",
   "execution_count": 48,
   "metadata": {},
   "outputs": [],
   "source": [
    "arr = np.array(range(100)).reshape((10,10))"
   ]
  },
  {
   "cell_type": "code",
   "execution_count": 49,
   "metadata": {},
   "outputs": [
    {
     "name": "stdout",
     "output_type": "stream",
     "text": [
      "55\n",
      "55\n"
     ]
    }
   ],
   "source": [
    "# select an element by row and column indices\n",
    "print(arr[5][5])\n",
    "# or \n",
    "print(arr[5,5])"
   ]
  },
  {
   "cell_type": "code",
   "execution_count": 50,
   "metadata": {},
   "outputs": [
    {
     "name": "stdout",
     "output_type": "stream",
     "text": [
      "[[14 15]\n",
      " [24 25]]\n"
     ]
    }
   ],
   "source": [
    "# indexing with slicing\n",
    "print(arr[1:3, 4:6])"
   ]
  },
  {
   "cell_type": "code",
   "execution_count": 51,
   "metadata": {},
   "outputs": [
    {
     "name": "stdout",
     "output_type": "stream",
     "text": [
      "[[  0   1   2   3   4   5   6   7 100 100]\n",
      " [100 100 100 100 100 100 100 100 100 100]\n",
      " [100 100 100 100 100 100 100 100 100 100]\n",
      " [ 30  31  32  33  34  35  36  37 100 100]\n",
      " [ 40  41  42  43  44  45  46  47 100 100]\n",
      " [ 50  51  52  53  54  55  56  57 100 100]\n",
      " [ 60  61  62  63  64  65  66  67 100 100]\n",
      " [ 70  71  72  73  74  75  76  77 100 100]\n",
      " [ 80  81  82  83  84  85  86  87 100 100]\n",
      " [ 90  91  92  93  94  95  96  97 100 100]]\n"
     ]
    }
   ],
   "source": [
    "# assign a scalar to a slice by broadcasting\n",
    "arr[1:3,:] = 100    # or simply arr[1:3]\n",
    "arr[:,8:] = 100\n",
    "print(arr)"
   ]
  },
  {
   "cell_type": "code",
   "execution_count": 52,
   "metadata": {},
   "outputs": [
    {
     "name": "stdout",
     "output_type": "stream",
     "text": [
      "[[ 0  1  2  3  4]\n",
      " [ 5  6  7  8  9]\n",
      " [15 16 17 18 19]]\n",
      "[[10 11 12 13 14]\n",
      " [20 21 22 23 24]]\n",
      "[[ 0  1  2  3  4]\n",
      " [20 21 22 23 24]]\n"
     ]
    }
   ],
   "source": [
    "# boolean indexing\n",
    "arr1 = np.arange(25).reshape((5,5))\n",
    "bools = np.array([True, True, False, True, False])\n",
    "print(arr1[bools])\n",
    "print(arr1[~bools])    # negate the condition\n",
    "\n",
    "arr2 = np.array([1,2,3,4,5])\n",
    "print(arr1[(arr2<2) | (arr2>4)])    # multiple conditions"
   ]
  },
  {
   "cell_type": "code",
   "execution_count": 53,
   "metadata": {},
   "outputs": [
    {
     "name": "stdout",
     "output_type": "stream",
     "text": [
      "[ 33 100 100]\n",
      "[[ 36  34 100]\n",
      " [100 100 100]\n",
      " [100 100 100]]\n"
     ]
    }
   ],
   "source": [
    "# fancy indexing\n",
    "print(arr[[3,1,2], [3,2,1]])       # select arr[3,3], arr[1,2], arr[2,1]\n",
    "print(arr[[3,1,2]][:, [6,4,8]])    # select rows 3,1,2 and columns 6,4,8 "
   ]
  },
  {
   "cell_type": "code",
   "execution_count": 54,
   "metadata": {},
   "outputs": [
    {
     "name": "stdout",
     "output_type": "stream",
     "text": [
      "[[[0 1]\n",
      "  [2 3]]\n",
      "\n",
      " [[4 5]\n",
      "  [6 7]]]\n"
     ]
    }
   ],
   "source": [
    "# ellipsis slicing: auto-complete the dimensions\n",
    "arr = np.array(range(16)).reshape(2,2,2,2)\n",
    "print(arr[0,...])    # equivalent to arr[0,:,:,:]"
   ]
  },
  {
   "cell_type": "code",
   "execution_count": 55,
   "metadata": {},
   "outputs": [
    {
     "name": "stdout",
     "output_type": "stream",
     "text": [
      "(4, 4)\n"
     ]
    }
   ],
   "source": [
    "# dimension inference using -1\n",
    "arr = np.array(range(16)).reshape((4,-1))\n",
    "print(arr.shape)"
   ]
  },
  {
   "cell_type": "markdown",
   "metadata": {},
   "source": [
    "## Sort Arrays"
   ]
  },
  {
   "cell_type": "code",
   "execution_count": 56,
   "metadata": {},
   "outputs": [
    {
     "name": "stdout",
     "output_type": "stream",
     "text": [
      "[[0.06756083 0.02755138 0.00535329 0.24182762 0.05608301]\n",
      " [0.19940777 0.06546154 0.48817449 0.41679514 0.25584293]\n",
      " [0.38151211 0.19017372 0.50942926 0.50236965 0.40335482]\n",
      " [0.40518518 0.47387186 0.81103914 0.68618686 0.91131813]\n",
      " [0.82620513 0.80738444 0.81733492 0.88694465 0.99261363]]\n",
      "[[0.00535329 0.06546154 0.82620513 0.88694465 0.91131813]\n",
      " [0.02755138 0.05608301 0.19940777 0.24182762 0.81733492]\n",
      " [0.06756083 0.25584293 0.41679514 0.47387186 0.50942926]\n",
      " [0.38151211 0.68618686 0.80738444 0.81103914 0.99261363]\n",
      " [0.19017372 0.40335482 0.40518518 0.48817449 0.50236965]]\n",
      "[[0.06756083 0.02755138 0.00535329 0.24182762 0.05608301]\n",
      " [0.19940777 0.06546154 0.48817449 0.41679514 0.25584293]\n",
      " [0.38151211 0.19017372 0.50942926 0.50236965 0.40335482]\n",
      " [0.40518518 0.47387186 0.81103914 0.68618686 0.91131813]\n",
      " [0.82620513 0.80738444 0.81733492 0.88694465 0.99261363]]\n",
      "[[0.00535329 0.02755138 0.05608301 0.06756083 0.24182762]\n",
      " [0.06546154 0.19940777 0.25584293 0.41679514 0.48817449]\n",
      " [0.19017372 0.38151211 0.40335482 0.50236965 0.50942926]\n",
      " [0.40518518 0.47387186 0.68618686 0.81103914 0.91131813]\n",
      " [0.80738444 0.81733492 0.82620513 0.88694465 0.99261363]]\n"
     ]
    }
   ],
   "source": [
    "arr = np.random.rand(5,5)\n",
    "# sort an array along a given axis and return a copy\n",
    "print(np.sort(arr, axis=0))    # sort along the row\n",
    "print(np.sort(arr, axis=1))    # sort along the column\n",
    "\n",
    "# sort in place along a given axis\n",
    "arr.sort(axis=0)    # sort along the row\n",
    "print(arr)\n",
    "\n",
    "arr.sort(axis=1)    # sort along the column\n",
    "print(arr)"
   ]
  },
  {
   "cell_type": "markdown",
   "metadata": {},
   "source": [
    "## Copy Arrays"
   ]
  },
  {
   "cell_type": "code",
   "execution_count": 57,
   "metadata": {},
   "outputs": [],
   "source": [
    "# deep copy \n",
    "arr = np.array([1,2,3])\n",
    "arr1 = np.copy(arr)\n",
    "# or \n",
    "arr1 = arr.copy()\n",
    "# or \n",
    "arr1 = np.array(arr, copy=True)"
   ]
  },
  {
   "cell_type": "markdown",
   "metadata": {},
   "source": [
    "## Manipulate Arrays"
   ]
  },
  {
   "cell_type": "code",
   "execution_count": 58,
   "metadata": {},
   "outputs": [],
   "source": [
    "arr = np.random.rand(3,4)"
   ]
  },
  {
   "cell_type": "code",
   "execution_count": 59,
   "metadata": {},
   "outputs": [
    {
     "name": "stdout",
     "output_type": "stream",
     "text": [
      "[[0.18109542 0.881347   0.05662   ]\n",
      " [0.0480298  0.58404612 0.15703523]\n",
      " [0.60469135 0.47746048 0.3386175 ]\n",
      " [0.26591121 0.17151502 0.44064297]]\n",
      "[[0.18109542 0.881347   0.05662   ]\n",
      " [0.0480298  0.58404612 0.15703523]\n",
      " [0.60469135 0.47746048 0.3386175 ]\n",
      " [0.26591121 0.17151502 0.44064297]]\n",
      "[[0.18109542 0.881347   0.05662   ]\n",
      " [0.0480298  0.58404612 0.15703523]\n",
      " [0.60469135 0.47746048 0.3386175 ]\n",
      " [0.26591121 0.17151502 0.44064297]]\n",
      "[[[ 0  1  2  3]\n",
      "  [ 4  5  6  7]]\n",
      "\n",
      " [[ 8  9 10 11]\n",
      "  [12 13 14 15]]]\n",
      "[[[ 0  1  2  3]\n",
      "  [ 4  5  6  7]]\n",
      "\n",
      " [[ 8  9 10 11]\n",
      "  [12 13 14 15]]]\n",
      "[[[ 0  4]\n",
      "  [ 1  5]\n",
      "  [ 2  6]\n",
      "  [ 3  7]]\n",
      "\n",
      " [[ 8 12]\n",
      "  [ 9 13]\n",
      "  [10 14]\n",
      "  [11 15]]]\n"
     ]
    }
   ],
   "source": [
    "# transpose an array\n",
    "print(arr.T)\n",
    "# or \n",
    "print(np.transpose(arr))\n",
    "print(arr.transpose())    # return a copy\n",
    "\n",
    "# transpose of a high dimensional array with specified order of axes\n",
    "arr1 = np.arange(16).reshape((2,2,4))\n",
    "print(arr1)\n",
    "arr1.transpose((1,0,2))\n",
    "print(arr1)\n",
    "\n",
    "# swap axes\n",
    "arr1 = np.arange(16).reshape((2,2,4))\n",
    "print(arr1.swapaxes(1,2))"
   ]
  },
  {
   "cell_type": "code",
   "execution_count": 60,
   "metadata": {},
   "outputs": [
    {
     "data": {
      "text/plain": [
       "array([0.18109542, 0.0480298 , 0.60469135, 0.26591121, 0.881347  ,\n",
       "       0.58404612, 0.47746048, 0.17151502, 0.05662   , 0.15703523,\n",
       "       0.3386175 , 0.44064297])"
      ]
     },
     "execution_count": 60,
     "metadata": {},
     "output_type": "execute_result"
    }
   ],
   "source": [
    "# change the shape of an array\n",
    "arr.reshape((2,6))\n",
    "# change the shape of an array in place\n",
    "arr.resize((2,6))\n",
    "# flatten an array\n",
    "arr.flatten()    # return a copy\n",
    "arr.ravel()      # return a view"
   ]
  },
  {
   "cell_type": "code",
   "execution_count": 61,
   "metadata": {},
   "outputs": [
    {
     "name": "stdout",
     "output_type": "stream",
     "text": [
      "[1 2 3 4]\n",
      "[1 2 3 4 5 6]\n",
      "[100   1   2   3]\n",
      "[1 2 3 1 2 3]\n",
      "[2 3]\n",
      "[2]\n"
     ]
    }
   ],
   "source": [
    "# append, insert and delete elements\n",
    "# the following operations return a copy instead of occurring in place\n",
    "arr = np.array([1,2,3])\n",
    "arr1 = np.append(arr, 4)    # append a scalar\n",
    "print(arr1)\n",
    "\n",
    "arr2 = np.append(arr, [4,5,6])    # append an array\n",
    "print(arr2)\n",
    "\n",
    "# np.insert(array, position, element)\n",
    "arr3 = np.insert(arr, 0, 100)    # insert a scalar at a certain position\n",
    "print(arr3)\n",
    "\n",
    "arr3 = np.insert(arr, 0, [1,2,3])    # insert multiple values at a certain position\n",
    "print(arr3)\n",
    "\n",
    "arr4 = np.delete(arr, 0)    # remove the element at position 0\n",
    "print(arr4)\n",
    "\n",
    "arr4 = np.delete(arr, [0,2])    # remove the element at multiple positions\n",
    "print(arr4)"
   ]
  },
  {
   "cell_type": "markdown",
   "metadata": {},
   "source": [
    "## Combine & Split Arrays"
   ]
  },
  {
   "cell_type": "code",
   "execution_count": 62,
   "metadata": {},
   "outputs": [],
   "source": [
    "arr1 = np.array([[1,2,3,4], [1,2,3,4]])\n",
    "arr2 = np.array([[5,6,7,8], [5,6,7,8]])"
   ]
  },
  {
   "cell_type": "code",
   "execution_count": 63,
   "metadata": {},
   "outputs": [
    {
     "name": "stdout",
     "output_type": "stream",
     "text": [
      "[[1 2 3 4]\n",
      " [1 2 3 4]\n",
      " [5 6 7 8]\n",
      " [5 6 7 8]]\n",
      "[[1 2 3 4 5 6 7 8]\n",
      " [1 2 3 4 5 6 7 8]]\n"
     ]
    }
   ],
   "source": [
    "# np.concatenate((a,b), axis=0)\n",
    "cat = np.concatenate((arr1, arr2), axis=0)    # concat along the row    \n",
    "print(cat)\n",
    "\n",
    "cat = np.concatenate((arr1, arr2), axis=1)    # concat along the column\n",
    "print(cat)"
   ]
  },
  {
   "cell_type": "code",
   "execution_count": 64,
   "metadata": {},
   "outputs": [
    {
     "name": "stdout",
     "output_type": "stream",
     "text": [
      "[[1 2 3 4]\n",
      " [1 2 3 4]\n",
      " [5 6 7 8]\n",
      " [5 6 7 8]]\n",
      "[[1 2 3 4]\n",
      " [1 2 3 4]\n",
      " [5 6 7 8]\n",
      " [5 6 7 8]]\n",
      "[[1 2 3 4 5 6 7 8]\n",
      " [1 2 3 4 5 6 7 8]]\n",
      "[[1 2 3 4 5 6 7 8]\n",
      " [1 2 3 4 5 6 7 8]]\n"
     ]
    }
   ],
   "source": [
    "# np.vstack((a,b)): stack arrays vertically\n",
    "cat = np.vstack((arr1, arr2))\n",
    "print(cat)\n",
    "# or \n",
    "cat = np.r_[arr1, arr2]\n",
    "print(cat)\n",
    "\n",
    "# np.hstack((a,b)): stack arrays horizontally\n",
    "cat = np.hstack((arr1, arr2))\n",
    "print(cat)\n",
    "# or \n",
    "cat = np.c_[arr1, arr2]\n",
    "print(cat)"
   ]
  },
  {
   "cell_type": "code",
   "execution_count": 65,
   "metadata": {},
   "outputs": [
    {
     "name": "stdout",
     "output_type": "stream",
     "text": [
      "[array([[0.68384312, 0.20587172, 0.6164337 , 0.92447161, 0.07962825,\n",
      "        0.48539683],\n",
      "       [0.69856363, 0.08156848, 0.86910236, 0.43310568, 0.49433006,\n",
      "        0.49574047],\n",
      "       [0.37072208, 0.92212866, 0.84127822, 0.65552592, 0.46268505,\n",
      "        0.56501131]]), array([[0.42391551, 0.28821195, 0.26398072, 0.69073823, 0.83283653,\n",
      "        0.59239158],\n",
      "       [0.46652258, 0.67365999, 0.39147935, 0.70210437, 0.96569764,\n",
      "        0.09050988],\n",
      "       [0.05812514, 0.58801742, 0.75117376, 0.51131739, 0.92050119,\n",
      "        0.3039641 ]])]\n",
      "[array([[0.68384312, 0.20587172, 0.6164337 ],\n",
      "       [0.69856363, 0.08156848, 0.86910236],\n",
      "       [0.37072208, 0.92212866, 0.84127822],\n",
      "       [0.42391551, 0.28821195, 0.26398072],\n",
      "       [0.46652258, 0.67365999, 0.39147935],\n",
      "       [0.05812514, 0.58801742, 0.75117376]]), array([[0.92447161, 0.07962825, 0.48539683],\n",
      "       [0.43310568, 0.49433006, 0.49574047],\n",
      "       [0.65552592, 0.46268505, 0.56501131],\n",
      "       [0.69073823, 0.83283653, 0.59239158],\n",
      "       [0.70210437, 0.96569764, 0.09050988],\n",
      "       [0.51131739, 0.92050119, 0.3039641 ]])]\n"
     ]
    }
   ],
   "source": [
    "arr = np.random.rand(6,6)\n",
    "\n",
    "# split the array vertically at a certain index\n",
    "arr1 = np.vsplit(arr, 2)\n",
    "print(arr1)\n",
    "\n",
    "# split the array horizontally at a certain index\n",
    "arr2 = np.hsplit(arr, 2)\n",
    "print(arr2)"
   ]
  },
  {
   "cell_type": "markdown",
   "metadata": {},
   "source": [
    "## Set Operations"
   ]
  },
  {
   "cell_type": "code",
   "execution_count": 66,
   "metadata": {},
   "outputs": [
    {
     "name": "stdout",
     "output_type": "stream",
     "text": [
      "[1 2 3 4 5 6]\n"
     ]
    }
   ],
   "source": [
    "# select the unique elements in an array\n",
    "arr = np.array([1,1,2,2,3,3,4,5,6])\n",
    "print(np.unique(arr))"
   ]
  },
  {
   "cell_type": "code",
   "execution_count": 67,
   "metadata": {},
   "outputs": [
    {
     "name": "stdout",
     "output_type": "stream",
     "text": [
      "[3 4 5]\n",
      "[1 2 3 4 5 6 7]\n"
     ]
    }
   ],
   "source": [
    "# select the intersection of two arrays\n",
    "arr1 = np.array([1,2,3,4,5])\n",
    "arr2 = np.array([3,4,5,6,7])\n",
    "\n",
    "print(np.intersect1d(arr1, arr2))\n",
    "\n",
    "# select the union of two arrays\n",
    "print(np.union1d(arr1, arr2))"
   ]
  },
  {
   "cell_type": "code",
   "execution_count": 68,
   "metadata": {},
   "outputs": [
    {
     "name": "stdout",
     "output_type": "stream",
     "text": [
      "[False False  True  True  True]\n"
     ]
    }
   ],
   "source": [
    "# compute whether each element of an array is contained in another\n",
    "print(np.in1d(arr1, arr2))"
   ]
  },
  {
   "cell_type": "code",
   "execution_count": 69,
   "metadata": {},
   "outputs": [
    {
     "name": "stdout",
     "output_type": "stream",
     "text": [
      "[1 2]\n"
     ]
    }
   ],
   "source": [
    "# compute elements in an array that are not in another\n",
    "print(np.setdiff1d(arr1, arr2))"
   ]
  },
  {
   "cell_type": "code",
   "execution_count": 70,
   "metadata": {},
   "outputs": [
    {
     "name": "stdout",
     "output_type": "stream",
     "text": [
      "[1 2 6 7]\n"
     ]
    }
   ],
   "source": [
    "# compute elements in either of two arrays, but not both\n",
    "print(np.setxor1d(arr1, arr2))"
   ]
  },
  {
   "cell_type": "markdown",
   "metadata": {},
   "source": [
    "## Linear Algebra"
   ]
  },
  {
   "cell_type": "code",
   "execution_count": 71,
   "metadata": {},
   "outputs": [],
   "source": [
    "arr = np.random.rand(5,5)\n",
    "arr1 = np.random.rand(5,5)"
   ]
  },
  {
   "cell_type": "code",
   "execution_count": 72,
   "metadata": {},
   "outputs": [
    {
     "name": "stdout",
     "output_type": "stream",
     "text": [
      "[[1.10913871 0.98321889 1.09377925 0.73151043 1.41430803]\n",
      " [1.02651204 1.08792252 1.35911048 0.86564437 1.57559502]\n",
      " [1.05274375 1.08930197 1.1336067  0.99140297 1.47128945]\n",
      " [1.08528738 0.79908826 1.10209278 0.80011273 1.44250068]\n",
      " [0.91835941 1.00363371 1.01161999 0.69635032 1.25250749]]\n",
      "[[1.10913871 0.98321889 1.09377925 0.73151043 1.41430803]\n",
      " [1.02651204 1.08792252 1.35911048 0.86564437 1.57559502]\n",
      " [1.05274375 1.08930197 1.1336067  0.99140297 1.47128945]\n",
      " [1.08528738 0.79908826 1.10209278 0.80011273 1.44250068]\n",
      " [0.91835941 1.00363371 1.01161999 0.69635032 1.25250749]]\n",
      "[[1.10913871 0.98321889 1.09377925 0.73151043 1.41430803]\n",
      " [1.02651204 1.08792252 1.35911048 0.86564437 1.57559502]\n",
      " [1.05274375 1.08930197 1.1336067  0.99140297 1.47128945]\n",
      " [1.08528738 0.79908826 1.10209278 0.80011273 1.44250068]\n",
      " [0.91835941 1.00363371 1.01161999 0.69635032 1.25250749]]\n"
     ]
    }
   ],
   "source": [
    "# matrix multiplication\n",
    "print(arr.dot(arr1))\n",
    "print(np.dot(arr, arr1))\n",
    "print(arr @ arr1)"
   ]
  },
  {
   "cell_type": "code",
   "execution_count": 73,
   "metadata": {},
   "outputs": [
    {
     "name": "stdout",
     "output_type": "stream",
     "text": [
      "[[-0.47838338 -0.31849954  0.12531104 -0.49457897 -0.63984074]\n",
      " [-0.33390774 -0.21503119  0.45847785  0.77955146 -0.15609224]\n",
      " [-0.63578369  0.57096731 -0.49066493  0.16693564 -0.03399762]\n",
      " [-0.16723203 -0.72452846 -0.59919092  0.13394063  0.26480581]\n",
      " [-0.47693553 -0.03707394  0.41750853 -0.31919204  0.70353471]]\n",
      "[[-1.0305599  -1.67629982 -0.66512777 -0.59183126 -0.92833754]\n",
      " [ 0.         -0.55713225 -0.1975743  -0.62898743 -0.1884296 ]\n",
      " [ 0.          0.         -0.45969712  0.01602461  0.06868947]\n",
      " [ 0.          0.          0.          0.59827722  0.30168585]\n",
      " [ 0.          0.          0.          0.          0.09109604]]\n"
     ]
    }
   ],
   "source": [
    "# QR factorization \n",
    "q, r = np.linalg.qr(arr)\n",
    "print(q)\n",
    "print(r)"
   ]
  },
  {
   "cell_type": "code",
   "execution_count": 74,
   "metadata": {},
   "outputs": [
    {
     "name": "stdout",
     "output_type": "stream",
     "text": [
      "[[-0.46910136  0.31220391  0.00383454  0.62513274 -0.54006202]\n",
      " [-0.45865087 -0.68175523 -0.46769539 -0.21342341 -0.24609074]\n",
      " [-0.47262738  0.45188857  0.20859968 -0.71154134 -0.15038342]\n",
      " [-0.41751543 -0.39285153  0.72720086  0.16975415  0.33721059]\n",
      " [-0.41459319  0.28143013 -0.45706827  0.16897325  0.71515468]]\n",
      "[2.47554243 0.74483374 0.45979616 0.28745111 0.05902639]\n",
      "[[-0.39365104 -0.70693689 -0.2851035  -0.33196803 -0.39216363]\n",
      " [ 0.38400713  0.19125368  0.18196811 -0.87653967 -0.1205254 ]\n",
      " [-0.26467832 -0.07733768  0.89708378  0.09888937 -0.33079579]\n",
      " [-0.41451444  0.66064714 -0.27142216 -0.01628228 -0.56372691]\n",
      " [-0.67505597  0.14569317  0.0847013  -0.33381314  0.63597753]]\n"
     ]
    }
   ],
   "source": [
    "# Singular Value Decomposition (SVD)\n",
    "u, s, v = np.linalg.svd(arr)\n",
    "print(u)\n",
    "print(s)\n",
    "print(v)"
   ]
  },
  {
   "cell_type": "code",
   "execution_count": 75,
   "metadata": {},
   "outputs": [
    {
     "name": "stdout",
     "output_type": "stream",
     "text": [
      "[ 2.33630197+0.j          0.33523958+0.35026881j  0.33523958-0.35026881j\n",
      "  0.0841337 +0.j         -0.31131644+0.j        ]\n",
      "[[-0.44279031+0.j          0.07593363+0.1747749j   0.07593363-0.1747749j\n",
      "   0.59332907+0.j          0.65189823+0.j        ]\n",
      " [-0.46637434+0.j         -0.33157173-0.02492161j -0.33157173+0.02492161j\n",
      "  -0.08844859+0.j         -0.62964299+0.j        ]\n",
      " [-0.4870652 +0.j          0.66384086+0.j          0.66384086-0.j\n",
      "  -0.0088532 +0.j         -0.12454342+0.j        ]\n",
      " [-0.4519609 +0.j         -0.02686292-0.49518962j -0.02686292+0.49518962j\n",
      "   0.35038848+0.j          0.33394839+0.j        ]\n",
      " [-0.38069745+0.j          0.1371586 +0.38431156j  0.1371586 -0.38431156j\n",
      "  -0.71922666+0.j          0.22703703+0.j        ]]\n",
      "[ 2.33630197+0.j          0.33523958+0.35026881j  0.33523958-0.35026881j\n",
      "  0.0841337 +0.j         -0.31131644+0.j        ]\n"
     ]
    }
   ],
   "source": [
    "# eigen value decomposition\n",
    "w, v = np.linalg.eig(arr)\n",
    "print(w)    # eigen values\n",
    "print(v)    # eigen vectors\n",
    "\n",
    "# calculate eigen values only\n",
    "print(np.linalg.eigvals(arr))"
   ]
  },
  {
   "cell_type": "code",
   "execution_count": 76,
   "metadata": {},
   "outputs": [
    {
     "name": "stdout",
     "output_type": "stream",
     "text": [
      "2.7795983939761726\n",
      "-0.014384848081894018\n"
     ]
    }
   ],
   "source": [
    "# calculate the trace and determinant\n",
    "print(np.trace(arr))    # notice this is not a function in linalg!!!\n",
    "print(np.linalg.det(arr))"
   ]
  },
  {
   "cell_type": "code",
   "execution_count": 77,
   "metadata": {},
   "outputs": [
    {
     "name": "stdout",
     "output_type": "stream",
     "text": [
      "[[ 5.5083096   3.11285532  2.93398135 -4.65605899 -7.94841012]\n",
      " [ 0.31720031 -1.06334275 -1.79060416  1.11851247  2.42108366]\n",
      " [-1.22746796 -1.17784242  1.02788677  1.69451085  0.0914187 ]\n",
      " [ 2.71513493  2.16703462  0.4672194  -1.24194231 -4.42790029]\n",
      " [-7.02380426 -1.71349101 -0.37320638  2.90688617  7.72300011]]\n"
     ]
    }
   ],
   "source": [
    "# calculate the inverse of a matrix\n",
    "print(np.linalg.inv(arr))"
   ]
  },
  {
   "cell_type": "code",
   "execution_count": 78,
   "metadata": {},
   "outputs": [
    {
     "name": "stdout",
     "output_type": "stream",
     "text": [
      "[[ 5.5083096   3.11285532  2.93398135 -4.65605899 -7.94841012]\n",
      " [ 0.31720031 -1.06334275 -1.79060416  1.11851247  2.42108366]\n",
      " [-1.22746796 -1.17784242  1.02788677  1.69451085  0.0914187 ]\n",
      " [ 2.71513493  2.16703462  0.4672194  -1.24194231 -4.42790029]\n",
      " [-7.02380426 -1.71349101 -0.37320638  2.90688617  7.72300011]]\n"
     ]
    }
   ],
   "source": [
    "# calculate the psudo-inverse of a matrix\n",
    "print(np.linalg.pinv(arr))"
   ]
  },
  {
   "cell_type": "code",
   "execution_count": 79,
   "metadata": {},
   "outputs": [
    {
     "name": "stdout",
     "output_type": "stream",
     "text": [
      "[-37.83032228   9.39817049   6.73564441 -18.65640831  38.6721398 ]\n"
     ]
    }
   ],
   "source": [
    "# solve a linear system\n",
    "y = [1,2,3,4,5]\n",
    "print(np.linalg.solve(arr, y))"
   ]
  },
  {
   "cell_type": "code",
   "execution_count": 80,
   "metadata": {},
   "outputs": [
    {
     "name": "stdout",
     "output_type": "stream",
     "text": [
      "[-37.83032228   9.39817049   6.73564441 -18.65640831  38.6721398 ]\n",
      "[]\n",
      "5\n",
      "[2.47554243 0.74483374 0.45979616 0.28745111 0.05902639]\n"
     ]
    },
    {
     "name": "stderr",
     "output_type": "stream",
     "text": [
      "C:\\Users\\ewang\\AppData\\Local\\Continuum\\miniconda3\\lib\\site-packages\\ipykernel_launcher.py:3: FutureWarning: `rcond` parameter will change to the default of machine precision times ``max(M, N)`` where M and N are the input matrix dimensions.\n",
      "To use the future default and silence this warning we advise to pass `rcond=None`, to keep using the old, explicitly pass `rcond=-1`.\n",
      "  This is separate from the ipykernel package so we can avoid doing imports until\n"
     ]
    }
   ],
   "source": [
    "# calculate the least-squares solution of a linear system\n",
    "y = [1,2,3,4,5]\n",
    "solution, residuals, rank, singular = np.linalg.lstsq(arr, y)\n",
    "print(solution)\n",
    "print(residuals)\n",
    "print(rank)\n",
    "print(singular)"
   ]
  }
 ],
 "metadata": {
  "kernelspec": {
   "display_name": "Python 3",
   "language": "python",
   "name": "python3"
  },
  "language_info": {
   "codemirror_mode": {
    "name": "ipython",
    "version": 3
   },
   "file_extension": ".py",
   "mimetype": "text/x-python",
   "name": "python",
   "nbconvert_exporter": "python",
   "pygments_lexer": "ipython3",
   "version": "3.6.6"
  }
 },
 "nbformat": 4,
 "nbformat_minor": 2
}
